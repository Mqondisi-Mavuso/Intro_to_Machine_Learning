{
 "cells": [
  {
   "cell_type": "code",
   "execution_count": 54,
   "id": "63ac9e1e",
   "metadata": {},
   "outputs": [
    {
     "name": "stdout",
     "output_type": "stream",
     "text": [
      "1.\n",
      "(a)The mean = 29.96\n",
      "The median = 25\n",
      "(b) The min-max normalization age(35) = 0.38596\n",
      "\n",
      "c)\n"
     ]
    },
    {
     "data": {
      "image/png": "[encoded data removed]",
      "text/plain": [
       "<Figure size 432x288 with 1 Axes>"
      ]
     },
     "metadata": {
      "needs_background": "light"
     },
     "output_type": "display_data"
    }
   ],
   "source": [
    "import matplotlib.pyplot as plt\n",
    "import pandas as pd\n",
    "from statistics import mean, median\n",
    "# 1. (a) (10 points) What is the mean of the data? What is the median?\n",
    "# list of the given numbers\n",
    "num_list = [13, 45, 22, 25, 46, 21, 15, 16, 25, 52, 16, 35, 70, \n",
    "            35, 25, 36, 19, 20, 22, 25, 30, 33, 33, 20, 35, 35, 40]\n",
    "print(f\"1.\\n(a)The mean = {round(mean(num_list), 2)}\")\n",
    "print(f\"The median = {median(num_list)}\")\n",
    "\n",
    "# (b) (15 points) Use min-max normalization (scaling) to transform the value 35 for age onto the range\n",
    "# [0.0, 1.0].\n",
    "# Perform min-max normalization\n",
    "min_val = min(num_list)\n",
    "max_val = max(num_list)\n",
    "age = 35\n",
    "scaled_age = (age - min_val) / (max_val - min_val)\n",
    "\n",
    "# Print the scaled value\n",
    "print(f\"(b) The min-max normalization age(35) = {round(scaled_age, 5)}\\n\\nc)\")\n",
    "\n",
    "# (c) (15 points) Plot an equal-width histogram of width 10.\n",
    "# Define the bin width\n",
    "bin_width = 10\n",
    "\n",
    "# Calculate the number of bins based on the bin width\n",
    "num_bins = int((max(num_list) - min(num_list)) / bin_width) + 1\n",
    "# Plot the histogram\n",
    "plt.hist(num_list, bins=num_bins, rwidth=0.981, range=(min(num_list), max(num_list)))\n",
    "plt.xlabel('Age')\n",
    "plt.ylabel('Frequency')\n",
    "plt.title('Equal-Width Age Histogram')\n",
    "plt.show()"
   ]
  },
  {
   "cell_type": "code",
   "execution_count": 53,
   "id": "b34d51f5",
   "metadata": {},
   "outputs": [
    {
     "name": "stdout",
     "output_type": "stream",
     "text": [
      "2. \n",
      "~ (15 points) equal interval width (also called equal-width partitioning)\n",
      "The width is = 70\n",
      "The Bin ranges are: [75, 145, 215]\n",
      "Bin 1 = [15, 13, 5, 50, 72, 10, 11, 35, 55]\n",
      "Bin 2 = [92]\n",
      "Bin 3 = [204, 215]\n",
      "\n",
      "~ (15 points) Equal frequency intervals (also called equal-frequency partitioning)\n",
      "[5, 10, 11, 13, 15, 35, 50, 55, 72, 92, 204, 215]\n",
      "Bin 1: [5, 10, 11, 13]\n",
      "Bin 2: [15, 35, 50, 55]\n",
      "Bin 3: [72, 92, 204, 215]\n"
     ]
    }
   ],
   "source": [
    "# 2. \n",
    "prices = [15, 204, 13, 5, 50, 215, 72, 10, 11, 35, 55, 92]\n",
    "num_bins = 3\n",
    "width = (max(prices) - min(prices))//num_bins\n",
    "print(\"2. \\n~ (15 points) equal interval width (also called equal-width partitioning)\")\n",
    "print(f\"The width is = {width}\")\n",
    "\n",
    "#range of each bin = (min + i*width) where \"i\" is the ith bin\n",
    "bin_range = []\n",
    "for i in range(1, num_bins+1):\n",
    "    x = min(prices) + i * width\n",
    "    bin_range.append(x)\n",
    "print(f\"The Bin ranges are: {bin_range}\")\n",
    "\n",
    "bin_1, bin_2, bin_3 = [], [], []\n",
    "for i in range(len(prices)):\n",
    "    cost = prices[i]\n",
    "    if cost < 75:\n",
    "        bin_1.append(cost)\n",
    "    elif cost in range(75, 145+1):\n",
    "        bin_2.append(cost)\n",
    "    else:\n",
    "        bin_3.append(cost)\n",
    "\n",
    "print(f\"Bin 1 = {bin_1}\")\n",
    "print(f\"Bin 2 = {bin_2}\")\n",
    "print(f\"Bin 3 = {bin_3}\\n\")\n",
    "\n",
    "print(\"~ (15 points) Equal frequency intervals (also called equal-frequency partitioning)\")\n",
    "binning_range = len(prices)//num_bins\n",
    "prices.sort()\n",
    "print(prices)\n",
    "\n",
    "# slicing the prices list \n",
    "bin_1 = prices[:binning_range]\n",
    "bin_2 = prices[binning_range:2*binning_range]\n",
    "bin_3 = prices[2*binning_range:]\n",
    "\n",
    "# Print the sub-lists\n",
    "print(f\"Bin 1: {bin_1}\")\n",
    "print(f\"Bin 2: {bin_2}\")\n",
    "print(f\"Bin 3: {bin_3}\")\n"
   ]
  },
  {
   "cell_type": "code",
   "execution_count": 49,
   "id": "ecdda2b3",
   "metadata": {},
   "outputs": [
    {
     "name": "stdout",
     "output_type": "stream",
     "text": [
      "3.\n",
      "The TF-IDF weighted term vector for document D.\n",
      "\n",
      "learning: 1.0000\n",
      "machine: 0.8333\n",
      "robust: 0.0000\n",
      "software: 2.3333\n",
      "computer: 0.6667\n"
     ]
    }
   ],
   "source": [
    "import math\n",
    "# this calcultes the frequency of word \"x\" in document \"d\" \n",
    "# f = (how many times it appears/ lenght of the document)\n",
    "def term_frequency(document, word):\n",
    "    return document.count(word) / len(document)\n",
    "# idf = log2(N/|{dED: tEd}|)\n",
    "def inverse_document_frequency(doc_freqs, word, total_documents):\n",
    "    documents_with_word = doc_freqs[word]\n",
    "    return math.log2(total_documents / documents_with_word)\n",
    "\n",
    "# tfidf = tf * idf\n",
    "def tfidf(document, doc_freqs, total_documents):\n",
    "    unique_words = set(document)\n",
    "    tfidf = {}\n",
    "    \n",
    "    for word in unique_words:\n",
    "        tf = term_frequency(document, word)\n",
    "        idf = inverse_document_frequency(doc_freqs, word, total_documents)\n",
    "        tfidf[word] = tf * idf\n",
    "        \n",
    "    return tfidf\n",
    "doc_freqs = {\n",
    "    \"machine\": 32,\n",
    "    \"learning\": 16,\n",
    "    \"software\": 8,\n",
    "    \"computer\": 64,\n",
    "    \"robust\": 1024\n",
    "}\n",
    "print(\"3.\")\n",
    "print(\"The TF-IDF weighted term vector for document D.\\n\")\n",
    "# N\n",
    "total_documents = 1024\n",
    "# d\n",
    "document_d = \"machine learning software robust computer software\".split()\n",
    "tfidf_vector = tfidf(document_d, doc_freqs, total_documents)\n",
    "for word, tfidf_value in tfidf_vector.items():\n",
    "    print(f\"{word}: {tfidf_value:.4f}\")\n"
   ]
  }
 ],
 "metadata": {
  "kernelspec": {
   "display_name": "Python 3 (ipykernel)",
   "language": "python",
   "name": "python3"
  },
  "language_info": {
   "codemirror_mode": {
    "name": "ipython",
    "version": 3
   },
   "file_extension": ".py",
   "mimetype": "text/x-python",
   "name": "python",
   "nbconvert_exporter": "python",
   "pygments_lexer": "ipython3",
   "version": "3.9.12"
  }
 },
 "nbformat": 4,
 "nbformat_minor": 5
}
